{
 "cells": [
  {
   "cell_type": "code",
   "execution_count": 15,
   "metadata": {
    "vscode": {
     "languageId": "python"
    }
   },
   "outputs": [
    {
     "name": "stdout",
     "output_type": "stream",
     "text": [
      "\n"
     ]
    }
   ],
   "source": [
    "import sys\n",
    "from awsglue.transforms import *\n",
    "from awsglue.utils import getResolvedOptions\n",
    "from pyspark.context import SparkContext\n",
    "from awsglue.context import GlueContext\n",
    "from awsglue.job import Job\n",
    "\n",
    "\n",
    "sc = SparkContext.getOrCreate()\n",
    "glueContext = GlueContext(sc)\n",
    "spark = glueContext.spark_session\n",
    "job = Job(glueContext)"
   ]
  },
  {
   "cell_type": "code",
   "execution_count": 8,
   "metadata": {
    "vscode": {
     "languageId": "python"
    }
   },
   "outputs": [
    {
     "name": "stdout",
     "output_type": "stream",
     "text": [
      "Session ID: 38143288-2129-40fe-bc8f-ff9b7f505028\n",
      "Status: READY\n",
      "Role: arn:aws:iam::473718321037:role/service-role/AWSGlueServiceRole\n",
      "CreatedOn: 2024-04-28 13:33:52.799000+01:00\n",
      "GlueVersion: 4.0\n",
      "Session Type: glueetl\n",
      "Idle Timeout: 2880\n",
      "Tags: {'owner': '473718321037'}\n",
      "Worker Type: G.1X\n",
      "Number of Workers: 5\n",
      "Region: eu-west-1\n",
      "Applying the following default arguments:\n",
      "--glue_kernel_version 1.0.5\n",
      "--enable-glue-datacatalog true\n",
      "Arguments Passed: ['--glue_kernel_version: 1.0.5', '--enable-glue-datacatalog: true']\n"
     ]
    }
   ],
   "source": [
    "%status"
   ]
  },
  {
   "cell_type": "code",
   "execution_count": 9,
   "metadata": {
    "vscode": {
     "languageId": "python"
    }
   },
   "outputs": [
    {
     "name": "stdout",
     "output_type": "stream",
     "text": [
      "+---------+\n",
      "|namespace|\n",
      "+---------+\n",
      "|  default|\n",
      "+---------+\n"
     ]
    }
   ],
   "source": [
    "%%sql\n",
    "SHOW DATABASES;"
   ]
  },
  {
   "cell_type": "code",
   "execution_count": 17,
   "metadata": {
    "vscode": {
     "languageId": "python"
    }
   },
   "outputs": [
    {
     "name": "stdout",
     "output_type": "stream",
     "text": [
      "+----------+--------------------+-----------+\n",
      "| namespace|           tableName|isTemporary|\n",
      "+----------+--------------------+-----------+\n",
      "|`covid-19`|alleninstitute_co...|      false|\n",
      "|`covid-19`|alleninstitute_me...|      false|\n",
      "|`covid-19`|aspirevc_crowd_tr...|      false|\n",
      "|`covid-19`|aspirevc_crowd_tr...|      false|\n",
      "|`covid-19`|cdc_moderna_vacci...|      false|\n",
      "|`covid-19`|cdc_pfizer_vaccin...|      false|\n",
      "|`covid-19`|       country_codes|      false|\n",
      "|`covid-19`|  county_populations|      false|\n",
      "|`covid-19`|covid_knowledge_g...|      false|\n",
      "|`covid-19`|covid_knowledge_g...|      false|\n",
      "|`covid-19`|covid_knowledge_g...|      false|\n",
      "|`covid-19`|covid_knowledge_g...|      false|\n",
      "|`covid-19`|covid_knowledge_g...|      false|\n",
      "|`covid-19`|covid_knowledge_g...|      false|\n",
      "|`covid-19`|covid_testing_sta...|      false|\n",
      "|`covid-19`|covid_testing_us_...|      false|\n",
      "|`covid-19`|covid_testing_us_...|      false|\n",
      "|`covid-19`|      covidcast_data|      false|\n",
      "|`covid-19`|  covidcast_metadata|      false|\n",
      "|`covid-19`|enigma_aggregatio...|      false|\n",
      "+----------+--------------------+-----------+\n",
      "only showing top 20 rows\n"
     ]
    }
   ],
   "source": [
    "%%sql\n",
    "show tables in `covid-19`"
   ]
  },
  {
   "cell_type": "code",
   "execution_count": null,
   "metadata": {
    "vscode": {
     "languageId": "python"
    }
   },
   "outputs": [],
   "source": [
    "%%sql\n",
    "select * from `covid-19`.county_populations sort by `population estimate 2018` desc limit 10"
   ]
  },
  {
   "cell_type": "code",
   "execution_count": null,
   "metadata": {
    "vscode": {
     "languageId": "python"
    }
   },
   "outputs": [],
   "source": [
    "# Create a DynamicFrame of county_populations and print it's schema\n",
    "dyf = glueContext.create_dynamic_frame.from_catalog(database=\"covid-19\", table_name=\"county_populations\")\n",
    "dyf.printSchema()"
   ]
  },
  {
   "cell_type": "code",
   "execution_count": null,
   "metadata": {
    "vscode": {
     "languageId": "python"
    }
   },
   "outputs": [],
   "source": [
    "# Rename id2 to simple_id and convert to Int\n",
    "# Remove spaces and rename population est. and convert to Long\n",
    "mapped = dyf.apply_mapping(\n",
    "    mappings=[\n",
    "        (\"id\", \"string\", \"id\", \"string\"),\n",
    "        (\"id2\", \"string\", \"simple_id\", \"int\"),\n",
    "        (\"county\", \"string\", \"county\", \"string\"),\n",
    "        (\"state\", \"string\", \"state\", \"string\"),\n",
    "        (\"population estimate 2018\", \"string\", \"population_est_2018\", \"long\"),\n",
    "    ]\n",
    ")\n",
    "mapped.printSchema()"
   ]
  },
  {
   "cell_type": "code",
   "execution_count": null,
   "metadata": {
    "vscode": {
     "languageId": "python"
    }
   },
   "outputs": [],
   "source": [
    "mapped_df = mapped.toDF()\n",
    "mapped_df.show()"
   ]
  },
  {
   "cell_type": "code",
   "execution_count": null,
   "metadata": {
    "vscode": {
     "languageId": "python"
    }
   },
   "outputs": [],
   "source": [
    "# Create \"demo\" Database if none exists\n",
    "spark.sql(\"create database if not exists demo\")\n",
    "\n",
    "\n",
    "# Set glueContext sink for writing new table\n",
    "S3_BUCKET = \"kenan-hancer-glue-test1\"\n",
    "s3output = glueContext.getSink(\n",
    "    path=f\"s3://{S3_BUCKET}/interactive-sessions-blog/populations/\",\n",
    "    connection_type=\"s3\",\n",
    "    updateBehavior=\"UPDATE_IN_DATABASE\",\n",
    "    partitionKeys=[],\n",
    "    compression=\"snappy\",\n",
    "    enableUpdateCatalog=True,\n",
    "    transformation_ctx=\"s3output\",\n",
    ")\n",
    "s3output.setCatalogInfo(catalogDatabase=\"demo\", catalogTableName=\"populations\")\n",
    "s3output.setFormat(\"glueparquet\")\n",
    "s3output.writeFrame(mapped)"
   ]
  }
 ],
 "metadata": {
  "kernelspec": {
   "display_name": "Glue PySpark",
   "language": "python",
   "name": "glue_pyspark"
  },
  "language_info": {
   "codemirror_mode": {
    "name": "python",
    "version": 3
   },
   "file_extension": ".py",
   "mimetype": "text/x-python",
   "name": "Python_Glue_Session",
   "pygments_lexer": "python3"
  }
 },
 "nbformat": 4,
 "nbformat_minor": 2
}
